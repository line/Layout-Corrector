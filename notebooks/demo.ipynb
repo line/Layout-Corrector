{
 "cells": [
  {
   "cell_type": "code",
   "execution_count": null,
   "id": "430cafad-faa2-49a5-b94c-ea0e43304380",
   "metadata": {
    "tags": []
   },
   "outputs": [],
   "source": [
    "%cd ../\n",
    "%load_ext autoreload\n",
    "%autoreload 2"
   ]
  },
  {
   "cell_type": "code",
   "execution_count": 2,
   "id": "d9dabd7c-cd99-4e52-86a4-7bfd6941b56b",
   "metadata": {
    "tags": []
   },
   "outputs": [
    {
     "name": "stderr",
     "output_type": "stream",
     "text": [
      "/home/usrs/shoiwai/miniconda3/envs/layout_corrector_test_env_2/lib/python3.10/site-packages/tqdm/auto.py:21: TqdmWarning: IProgress not found. Please update jupyter and ipywidgets. See https://ipywidgets.readthedocs.io/en/stable/user_install.html\n",
      "  from .autonotebook import tqdm as notebook_tqdm\n"
     ]
    }
   ],
   "source": [
    "import copy\n",
    "import math\n",
    "import os\n",
    "\n",
    "import matplotlib.pyplot as plt\n",
    "import numpy as np\n",
    "import torch\n",
    "import torch.nn as nn\n",
    "import torchvision.transforms as T\n",
    "from fsspec.core import url_to_fs\n",
    "from hydra.utils import instantiate\n",
    "from omegaconf import DictConfig, OmegaConf\n",
    "\n",
    "from trainer.data.util import sparse_to_dense\n",
    "from trainer.global_configs import DATASET_DIR, JOB_DIR\n",
    "from trainer.helpers.layout_tokenizer import LayoutSequenceTokenizer\n",
    "from trainer.helpers.sampling import SAMPLING_CONFIG_DICT\n",
    "from trainer.helpers.task import filter_canvas, get_cond\n",
    "from trainer.helpers.util import set_seed\n",
    "from trainer.helpers.visualization import save_image\n",
    "from trainer.hydra_configs import TestConfig\n",
    "from trainer.models.common.util import load_model\n",
    "\n",
    "device = \"cuda\" if torch.cuda.is_available() else \"cpu\""
   ]
  },
  {
   "cell_type": "code",
   "execution_count": 3,
   "id": "5465959a-579c-4590-856b-ce3e5588a282",
   "metadata": {},
   "outputs": [],
   "source": [
    "def load_config(config_path: str):\n",
    "    fs, _ = url_to_fs(config_path)\n",
    "    if fs.exists(config_path):\n",
    "        with fs.open(config_path, \"rb\") as file_obj:\n",
    "            cfg = OmegaConf.load(file_obj)\n",
    "        return cfg\n",
    "    else:\n",
    "        raise FileNotFoundError\n",
    "\n",
    "def build_model(\n",
    "    train_cfg: DictConfig, \n",
    "    device: str\n",
    ") -> nn.Module:\n",
    "    ## Define Models\n",
    "    tokenizer = LayoutSequenceTokenizer(\n",
    "        data_cfg=train_cfg.data, dataset_cfg=train_cfg.dataset\n",
    "    )\n",
    "    model = instantiate(train_cfg.model)(\n",
    "        backbone_cfg=train_cfg.backbone, tokenizer=tokenizer\n",
    "    ).to(device)\n",
    "    return model"
   ]
  },
  {
   "cell_type": "code",
   "execution_count": 4,
   "id": "760e541a-e82f-430b-84e9-29b275f7b1fa",
   "metadata": {},
   "outputs": [],
   "source": [
    "# configuration\n",
    "DIFFUSION_JOB_DIR = \"./download/pretrained_weights/rico25/layoutdm/0/\"\n",
    "CORRECTOR_JOB_DIR =\"./download/pretrained_weights/rico25/layout_corrector/0/\"\n",
    "\n",
    "SIZE = (360, 240)\n",
    "cond_type = \"unconditional\" # choices: unconditional, c, cwh\n",
    "W_CANVAS = False\n",
    "NUM_SAMPLES = 9"
   ]
  },
  {
   "cell_type": "code",
   "execution_count": 5,
   "id": "681f2066-de67-4c7b-97bb-6d43d1f93f07",
   "metadata": {},
   "outputs": [],
   "source": [
    "# build models\n",
    "\n",
    "# layout generation model\n",
    "diff_config_path = os.path.join(DIFFUSION_JOB_DIR, \"config.yaml\")\n",
    "diff_train_cfg = load_config(diff_config_path)\n",
    "\n",
    "diffusion = build_model(diff_train_cfg, device=device)\n",
    "diffusion = load_model(\n",
    "    model=diffusion,\n",
    "    ckpt_dir=DIFFUSION_JOB_DIR,\n",
    "    device=device,\n",
    "    best_or_final=\"best\"\n",
    ")\n",
    "diffusion.eval();\n",
    "\n",
    "\n",
    "# layout-corrector\n",
    "corr_config_path = os.path.join(CORRECTOR_JOB_DIR, \"config.yaml\")\n",
    "corr_train_cfg = load_config(corr_config_path)\n",
    "\n",
    "corrector = build_model(corr_train_cfg, device=device)\n",
    "corrector = load_model(\n",
    "    model=corrector,\n",
    "    ckpt_dir=CORRECTOR_JOB_DIR,\n",
    "    device=device,\n",
    "    best_or_final=\"best\"\n",
    ")\n",
    "corrector.eval();"
   ]
  },
  {
   "cell_type": "code",
   "execution_count": 6,
   "id": "f3efc96f-6554-490a-b8ee-338401d56f0d",
   "metadata": {},
   "outputs": [],
   "source": [
    "tokenizer = diffusion.tokenizer\n",
    "mask_id, pad_id = tokenizer.name_to_id(\"mask\"), tokenizer.name_to_id(\"pad\")\n",
    "dataset = instantiate(corr_train_cfg.dataset)(split=\"test\", transform=None)\n",
    "save_kwargs = {\n",
    "    \"colors\": dataset.colors, \"names\": dataset.labels,\n",
    "    \"canvas_size\": SIZE, \"use_grid\": True,\n",
    "}"
   ]
  },
  {
   "cell_type": "markdown",
   "id": "927fd2a2-3fc5-4fa9-aada-720f6a2bd37c",
   "metadata": {},
   "source": [
    "## Unconditional Generation"
   ]
  },
  {
   "cell_type": "code",
   "execution_count": 7,
   "id": "f954908c-f077-4988-9e65-8a8c15bba6ff",
   "metadata": {},
   "outputs": [],
   "source": [
    "cond_type = 'unconditional'\n",
    "\n",
    "test_cfg = OmegaConf.structured(TestConfig)\n",
    "test_cfg.cond = cond_type\n",
    "default_sampling_cfg = corr_train_cfg.sampling\n",
    "default_sampling_cfg = corrector.aggregate_sampling_settings(default_sampling_cfg, test_cfg)"
   ]
  },
  {
   "cell_type": "code",
   "execution_count": 8,
   "id": "6cfc7b47-8d88-46cd-83d7-53ebb10d0531",
   "metadata": {},
   "outputs": [
    {
     "data": {
      "text/plain": [
       "<matplotlib.image.AxesImage at 0x7f73438ef400>"
      ]
     },
     "execution_count": 8,
     "metadata": {},
     "output_type": "execute_result"
    },
    {
     "data": {
      "image/png": "[encoded data removed]",
      "text/plain": [
       "<Figure size 640x480 with 1 Axes>"
      ]
     },
     "metadata": {},
     "output_type": "display_data"
    }
   ],
   "source": [
    "## Show Real Data\n",
    "key_list = ['bbox', 'label', 'mask']\n",
    "gt_batch = {k: [] for k in key_list}\n",
    "\n",
    "for ind in range(NUM_SAMPLES):\n",
    "    bbox, label, _, mask = sparse_to_dense(dataset[ind])\n",
    "    gt_cond = tokenizer.encode(\n",
    "        {\"label\": label, \"mask\": mask, \"bbox\": bbox}\n",
    "    )\n",
    "    if \"bos\" in tokenizer.special_tokens:\n",
    "        gt = tokenizer.decode(gt_cond[\"seq\"][:, 1:])\n",
    "    else:\n",
    "        gt = tokenizer.decode(gt_cond[\"seq\"])\n",
    "    if W_CANVAS:\n",
    "        gt = filter_canvas(gt)  # remove canvas attributes before visualization\n",
    "    \n",
    "    for k in key_list:\n",
    "        gt_batch[k].append(gt[k])\n",
    "        \n",
    "plt.axis(\"off\")\n",
    "plt.imshow(save_image(*(torch.stack(gt_batch[k]) for k in key_list), **save_kwargs))"
   ]
  },
  {
   "cell_type": "code",
   "execution_count": 9,
   "id": "b1de62e1-135e-4359-877d-93a86fb9a6b5",
   "metadata": {},
   "outputs": [
    {
     "data": {
      "text/plain": [
       "<matplotlib.image.AxesImage at 0x7f733c1776d0>"
      ]
     },
     "execution_count": 9,
     "metadata": {},
     "output_type": "execute_result"
    },
    {
     "data": {
      "image/png": "[encoded data removed]",
      "text/plain": [
       "<Figure size 640x480 with 1 Axes>"
      ]
     },
     "metadata": {},
     "output_type": "display_data"
    }
   ],
   "source": [
    "## Generate Layouts using Layout-Corrector\n",
    "extra_sampling_args = dict(\n",
    "    num_timesteps=100,\n",
    "    corrector_start=-1,\n",
    "    corrector_end=-1,\n",
    "    corrector_t_list=[10, 20, 30],\n",
    "    corrector_mask_mode=\"thresh\",\n",
    "    corrector_mask_thresh=0.7,\n",
    "    use_gumbel_noise=True,\n",
    ")\n",
    "sampling_cfg = default_sampling_cfg.copy()\n",
    "sampling_cfg.update(extra_sampling_args)\n",
    "\n",
    "# set_seed(0) # uncomment this to ensure reproduceability\n",
    "pred = diffusion.sample(batch_size=NUM_SAMPLES, cond=None, sampling_cfg=sampling_cfg, corrector=corrector)\n",
    "\n",
    "plt.axis(\"off\")\n",
    "plt.imshow(save_image(pred[\"bbox\"], pred[\"label\"], pred[\"mask\"], **save_kwargs))"
   ]
  },
  {
   "cell_type": "code",
   "execution_count": 10,
   "id": "9f6b3ab3-518d-447f-bb91-3457b4990197",
   "metadata": {},
   "outputs": [
    {
     "data": {
      "text/plain": [
       "<matplotlib.image.AxesImage at 0x7f733c177520>"
      ]
     },
     "execution_count": 10,
     "metadata": {},
     "output_type": "execute_result"
    },
    {
     "data": {
      "image/png": "[encoded data removed]",
      "text/plain": [
       "<Figure size 640x480 with 1 Axes>"
      ]
     },
     "metadata": {},
     "output_type": "display_data"
    }
   ],
   "source": [
    "## Generate Layouts without Layout-Corrector\n",
    "\n",
    "# set_seed(0) # uncomment this to ensure reproduceability\n",
    "pred = diffusion.sample(batch_size=NUM_SAMPLES, cond=None, sampling_cfg=sampling_cfg, corrector=None)\n",
    "\n",
    "plt.axis(\"off\")\n",
    "plt.imshow(save_image(pred[\"bbox\"], pred[\"label\"], pred[\"mask\"], **save_kwargs))"
   ]
  },
  {
   "cell_type": "markdown",
   "id": "49e49a85-da86-4628-baea-713916deb7d3",
   "metadata": {},
   "source": [
    "## Conditional Generation"
   ]
  },
  {
   "cell_type": "code",
   "execution_count": 11,
   "id": "2e9cb328-7714-44b5-8b82-fff1d78d7c3d",
   "metadata": {},
   "outputs": [],
   "source": [
    "cond_type = 'c' # 'c' or 'cwh'\n",
    "# 'c': class -> X, Y, W, H\n",
    "# 'cwh': class + W, H -> X, Y\n",
    "\n",
    "test_cfg = OmegaConf.structured(TestConfig)\n",
    "test_cfg.cond = cond_type\n",
    "default_sampling_cfg = corr_train_cfg.sampling\n",
    "default_sampling_cfg = corrector.aggregate_sampling_settings(default_sampling_cfg, test_cfg)"
   ]
  },
  {
   "cell_type": "code",
   "execution_count": 12,
   "id": "de249ab4-a771-45a2-bbfd-87e64132718a",
   "metadata": {},
   "outputs": [
    {
     "data": {
      "text/plain": [
       "<matplotlib.image.AxesImage at 0x7f73347977f0>"
      ]
     },
     "execution_count": 12,
     "metadata": {},
     "output_type": "execute_result"
    },
    {
     "data": {
      "image/png": "[encoded data removed]",
      "text/plain": [
       "<Figure size 640x480 with 1 Axes>"
      ]
     },
     "metadata": {},
     "output_type": "display_data"
    }
   ],
   "source": [
    "target_index = 100\n",
    "\n",
    "cond = get_cond(\n",
    "    batch=dataset[target_index],\n",
    "    tokenizer=diffusion.tokenizer,\n",
    "    cond_type=cond_type,\n",
    "    model_type=type(diffusion).__name__,\n",
    ")\n",
    "\n",
    "bbox, label, _, mask = sparse_to_dense(dataset[target_index])\n",
    "gt_cond = diffusion.tokenizer.encode(\n",
    "    {\"label\": label, \"mask\": mask, \"bbox\": bbox}\n",
    ")\n",
    "if \"bos\" in tokenizer.special_tokens:\n",
    "    gt = diffusion.tokenizer.decode(gt_cond[\"seq\"][:, 1:])\n",
    "else:\n",
    "    gt = diffusion.tokenizer.decode(gt_cond[\"seq\"])\n",
    "if W_CANVAS:\n",
    "    gt = filter_canvas(gt)  # remove canvas attributes before visualization\n",
    "plt.imshow(save_image(gt[\"bbox\"], gt[\"label\"], gt[\"mask\"], **save_kwargs))"
   ]
  },
  {
   "cell_type": "code",
   "execution_count": 13,
   "id": "2c67075d-e890-4a42-ad39-2480d8b5591a",
   "metadata": {},
   "outputs": [
    {
     "data": {
      "text/plain": [
       "<matplotlib.image.AxesImage at 0x7f7334655150>"
      ]
     },
     "execution_count": 13,
     "metadata": {},
     "output_type": "execute_result"
    },
    {
     "data": {
      "image/png": "[encoded data removed]",
      "text/plain": [
       "<Figure size 640x480 with 1 Axes>"
      ]
     },
     "metadata": {},
     "output_type": "display_data"
    }
   ],
   "source": [
    "## Generate Layout using Layout-Corrector\n",
    "extra_sampling_args = dict(\n",
    "    num_timesteps=100,\n",
    "    corrector_start=-1,\n",
    "    corrector_end=-1,  \n",
    "    corrector_t_list=[10, 20, 30],\n",
    "    corrector_mask_mode=\"thresh\",\n",
    "    corrector_mask_thresh=0.7,\n",
    "    use_gumbel_noise=True,\n",
    ")\n",
    "sampling_cfg = default_sampling_cfg.copy()\n",
    "sampling_cfg.update(extra_sampling_args)\n",
    "\n",
    "# set_seed(0) # uncomment this to ensure reproduceability\n",
    "pred = diffusion.sample(batch_size=1, cond=cond, sampling_cfg=sampling_cfg, corrector=corrector)\n",
    "plt.imshow(save_image(pred[\"bbox\"], pred[\"label\"], pred[\"mask\"], **save_kwargs))"
   ]
  },
  {
   "cell_type": "code",
   "execution_count": 14,
   "id": "4ee2043e-9983-4a6c-8b9d-6201ef498527",
   "metadata": {},
   "outputs": [
    {
     "data": {
      "text/plain": [
       "<matplotlib.image.AxesImage at 0x7f73346beb60>"
      ]
     },
     "execution_count": 14,
     "metadata": {},
     "output_type": "execute_result"
    },
    {
     "data": {
      "image/png": "[encoded data removed]",
      "text/plain": [
       "<Figure size 640x480 with 1 Axes>"
      ]
     },
     "metadata": {},
     "output_type": "display_data"
    }
   ],
   "source": [
    "## Generate Layout without Layout-Corrector\n",
    "\n",
    "# set_seed(0) # uncomment this to ensure reproduceability\n",
    "pred = diffusion.sample(batch_size=1, cond=cond, sampling_cfg=sampling_cfg, corrector=None)\n",
    "plt.imshow(save_image(pred[\"bbox\"], pred[\"label\"], pred[\"mask\"], **save_kwargs))"
   ]
  }
 ],
 "metadata": {
  "kernelspec": {
   "display_name": "Python 3 (ipykernel)",
   "language": "python",
   "name": "python3"
  },
  "language_info": {
   "codemirror_mode": {
    "name": "ipython",
    "version": 3
   },
   "file_extension": ".py",
   "mimetype": "text/x-python",
   "name": "python",
   "nbconvert_exporter": "python",
   "pygments_lexer": "ipython3",
   "version": "3.10.14"
  }
 },
 "nbformat": 4,
 "nbformat_minor": 5
}
