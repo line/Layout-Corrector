{
 "cells": [
  {
   "cell_type": "markdown",
   "id": "051df269-b271-465a-aa0a-bdb853a0066f",
   "metadata": {},
   "source": [
    "## Average Correctness Scores on Intermediate Generated Layouts with and without Layout-Corrector\n",
    "Fig. 9 in our paper"
   ]
  },
  {
   "cell_type": "code",
   "execution_count": null,
   "id": "b31869b0-233f-4ee4-958c-cd4ddfdeb6b3",
   "metadata": {},
   "outputs": [],
   "source": [
    "%cd ../\n",
    "%load_ext autoreload\n",
    "%autoreload 2"
   ]
  },
  {
   "cell_type": "code",
   "execution_count": 2,
   "id": "5c924baf-d61f-4fb6-8c10-c94b38e3a28d",
   "metadata": {},
   "outputs": [
    {
     "name": "stderr",
     "output_type": "stream",
     "text": [
      "/home/usrs/shoiwai/miniconda3/envs/layout_corrector_test_env_2/lib/python3.10/site-packages/tqdm/auto.py:21: TqdmWarning: IProgress not found. Please update jupyter and ipywidgets. See https://ipywidgets.readthedocs.io/en/stable/user_install.html\n",
      "  from .autonotebook import tqdm as notebook_tqdm\n"
     ]
    }
   ],
   "source": [
    "import argparse\n",
    "import copy\n",
    "import json\n",
    "import logging\n",
    "import os\n",
    "from collections import defaultdict\n",
    "from copy import deepcopy\n",
    "from typing import List\n",
    "\n",
    "import matplotlib.pyplot as plt\n",
    "import numpy as np\n",
    "import scienceplots\n",
    "import torch\n",
    "import torch.nn as nn\n",
    "import torchvision.transforms as T\n",
    "from einops import rearrange\n",
    "from fsspec.core import url_to_fs\n",
    "from hydra.utils import instantiate\n",
    "from omegaconf import DictConfig, OmegaConf\n",
    "from torch_geometric.loader import DataLoader\n",
    "from trainer.data.util import sparse_to_dense\n",
    "from trainer.helpers.layout_tokenizer import LayoutSequenceTokenizer\n",
    "from trainer.helpers.sampling import sample\n",
    "from trainer.helpers.util import set_seed\n",
    "from trainer.hydra_configs import TestConfig\n",
    "from trainer.models.categorical_diffusion.util import index_to_log_onehot\n",
    "from trainer.models.common.util import load_model\n",
    "\n",
    "plt.style.use(['science','no-latex', 'grid'])\n",
    "\n",
    "device = \"cuda\" if torch.cuda.is_available() else \"cpu\""
   ]
  },
  {
   "cell_type": "code",
   "execution_count": 3,
   "id": "ffd6c33c-b7b4-4080-bffd-c38dd64e4c17",
   "metadata": {},
   "outputs": [],
   "source": [
    "# utility\n",
    "def load_config(config_path: str):\n",
    "    fs, _ = url_to_fs(config_path)\n",
    "    if fs.exists(config_path):\n",
    "        with fs.open(config_path, \"rb\") as file_obj:\n",
    "            cfg = OmegaConf.load(file_obj)\n",
    "        return cfg\n",
    "    else:\n",
    "        raise FileNotFoundError\n",
    "\n",
    "\n",
    "def build_model(\n",
    "    train_cfg: DictConfig, \n",
    "    device: str\n",
    ") -> nn.Module:\n",
    "    ## Define Models\n",
    "    tokenizer = LayoutSequenceTokenizer(\n",
    "        data_cfg=train_cfg.data, dataset_cfg=train_cfg.dataset\n",
    "    )\n",
    "    model = instantiate(train_cfg.model)(\n",
    "        backbone_cfg=train_cfg.backbone, tokenizer=tokenizer\n",
    "    ).to(device)\n",
    "    return model"
   ]
  },
  {
   "cell_type": "code",
   "execution_count": 4,
   "id": "5c9a87af-7e6c-4c20-a350-1b2425c54182",
   "metadata": {},
   "outputs": [],
   "source": [
    "# configuration\n",
    "DIFFUSION_JOB_DIR = \"./download/pretrained_weights/rico25/layoutdm/0/\"\n",
    "CORRECTOR_JOB_DIR =\"./download/pretrained_weights/rico25/layout_corrector/0/\"\n",
    "NUM_SAMPLES = 500"
   ]
  },
  {
   "cell_type": "code",
   "execution_count": 5,
   "id": "fda921dc-6179-47ce-b7bd-0a96e54fe02f",
   "metadata": {
    "scrolled": true
   },
   "outputs": [],
   "source": [
    "# load models\n",
    "\n",
    "# layout generation model\n",
    "diff_config_path = os.path.join(DIFFUSION_JOB_DIR, \"config.yaml\")\n",
    "diff_train_cfg = load_config(diff_config_path)\n",
    "model = build_model(diff_train_cfg, device=device)\n",
    "model = load_model(\n",
    "    model=model,\n",
    "    ckpt_dir=DIFFUSION_JOB_DIR,\n",
    "    device=device,\n",
    "    best_or_final=\"best\"\n",
    ")\n",
    "model.eval()\n",
    "assert model.model.use_padding_as_vocab\n",
    "\n",
    "\n",
    "# corrector\n",
    "corr_config_path = os.path.join(CORRECTOR_JOB_DIR, \"config.yaml\")\n",
    "corr_train_cfg = load_config(corr_config_path)\n",
    "corrector = None if corr_train_cfg is None else build_model(corr_train_cfg, device=device)\n",
    "corrector = load_model(\n",
    "    model=corrector,\n",
    "    ckpt_dir=CORRECTOR_JOB_DIR,\n",
    "    device=device,\n",
    "    best_or_final=\"best\"\n",
    ")\n",
    "corrector.eval();"
   ]
  },
  {
   "cell_type": "code",
   "execution_count": 6,
   "id": "89b8b6fe-f1d4-4630-bceb-11e6fd134b80",
   "metadata": {},
   "outputs": [],
   "source": [
    "sampling_cfg = corr_train_cfg.sampling"
   ]
  },
  {
   "cell_type": "code",
   "execution_count": 7,
   "id": "d7e5d509-2d13-46bc-a0ee-6fa1c53fcaca",
   "metadata": {},
   "outputs": [],
   "source": [
    "tokenizer = model.tokenizer\n",
    "mask_id, pad_id = tokenizer.name_to_id(\"mask\"), tokenizer.name_to_id(\"pad\")\n",
    "dataset = instantiate(corr_train_cfg.dataset)(split=\"test\", transform=None)\n",
    "kwargs = {\n",
    "    \"batch_size\": NUM_SAMPLES,\n",
    "    \"num_workers\": 8,\n",
    "    \"pin_memory\": True,\n",
    "}\n",
    "val_dataloader = DataLoader(dataset, shuffle=False, **kwargs)"
   ]
  },
  {
   "cell_type": "markdown",
   "id": "e6e1f380-61aa-47dd-aeb6-3584408f54c3",
   "metadata": {},
   "source": [
    "### Calculate corrector score at each timestep"
   ]
  },
  {
   "cell_type": "code",
   "execution_count": 8,
   "id": "6f26c456-6103-4cba-b51e-385601a0ada7",
   "metadata": {},
   "outputs": [
    {
     "name": "stdout",
     "output_type": "stream",
     "text": [
      "[99, 98, 97, 96, 95, 94, 93, 92, 91, 90, 89, 88, 87, 86, 85, 84, 83, 82, 81, 80, 79, 78, 77, 76, 75, 74, 73, 72, 71, 70, 69, 68, 67, 66, 65, 64, 63, 62, 61, 60, 59, 58, 57, 56, 55, 54, 53, 52, 51, 50, 49, 48, 47, 46, 45, 44, 43, 42, 41, 40, 39, 38, 37, 36, 35, 34, 33, 32, 31, 30, 29, 28, 27, 26, 25, 24, 23, 22, 21, 20, 19, 18, 17, 16, 15, 14, 13, 12, 11, 10, 9, 8, 7, 6, 5, 4, 3, 2, 1, 0]\n",
      "[96, 93, 90, 86, 83, 80, 76, 73, 70, 66, 63, 60, 56, 53, 50, 46, 43, 40, 36, 33, 30, 26, 23, 20, 16, 13, 10, 6, 3, 0]\n"
     ]
    }
   ],
   "source": [
    "def get_diffusion_idx_list(T, T_eval):\n",
    "    assert T_eval <= T\n",
    "    diffusion_list = []\n",
    "    for i in range(T_eval - 1, -1, -1):\n",
    "        diffusion_list.append(int(i * T / T_eval))\n",
    "    return diffusion_list\n",
    "\n",
    "print(get_diffusion_idx_list(100, 100))\n",
    "print(get_diffusion_idx_list(100, 30))"
   ]
  },
  {
   "cell_type": "code",
   "execution_count": 9,
   "id": "28848d06-2772-48f4-b269-fb95c771b247",
   "metadata": {},
   "outputs": [],
   "source": [
    "def preprocess_for_corrector(model_log_prob, mask_id, sampling_cfg):\n",
    "    \"\"\"Preprocess not to include MASK after sampling for corrector\n",
    "    \"\"\"\n",
    "    # supress the logit for mask token\n",
    "    model_log_prob = model_log_prob.clone()\n",
    "    model_log_prob[:, mask_id, :] = -70.\n",
    "    x0_recon_index = sample(model_log_prob, sampling_cfg)\n",
    "    x0_recon_index = rearrange(x0_recon_index, \"b 1 s -> b s\")\n",
    "    return x0_recon_index\n",
    "\n",
    "\n",
    "@torch.no_grad()\n",
    "def get_intermediate_corrector_scores(layout_model, corrector, batch_size, sampling_cfg, device):\n",
    "    \"\"\"\n",
    "    calculate corrector score at each timestep\n",
    "    \"\"\"\n",
    "    def get_logits(log_one_hot, model_t, skip_step):\n",
    "        \"\"\" Helper method that partially runs `_sample_single_step()`.\n",
    "        \"\"\"\n",
    "        log_x_recon = layout_model.model.predict_start(log_one_hot, model_t, padding_mask=None)\n",
    "\n",
    "        noise_t = model_t.clone()\n",
    "        if skip_step > 0:\n",
    "            if noise_t[0].item() > skip_step:\n",
    "                model_log_prob = layout_model.model.q_posterior(\n",
    "                    log_x_start=log_x_recon, log_x_t=log_one_hot, t=noise_t - skip_step\n",
    "                )\n",
    "            else:\n",
    "                model_log_prob = layout_model.model.q_posterior(\n",
    "                    log_x_start=log_x_recon, log_x_t=log_one_hot, t=noise_t\n",
    "                )\n",
    "        else:\n",
    "            model_log_prob = layout_model.model.q_posterior(\n",
    "                log_x_start=log_x_recon, log_x_t=log_one_hot, t=noise_t\n",
    "            )\n",
    "\n",
    "        assert model_log_prob.dim() == 3\n",
    "        return model_log_prob\n",
    "\n",
    "    assert model.model.use_padding_as_vocab\n",
    "    num_timesteps = sampling_cfg.num_timesteps\n",
    "    num_classes = model.model.num_classes\n",
    "    max_token_length = model.model.max_token_length\n",
    "    mask_id = model.tokenizer.name_to_id(\"mask\")\n",
    "\n",
    "    corrector_t_list = sampling_cfg['corrector_t_list']\n",
    "    corrector_thresh = sampling_cfg['corrector_mask_threshold']\n",
    "    assert sampling_cfg.get('use_gumbel_noise', False)\n",
    "    assert not sampling_cfg.get('time_adaptive_temperature', False)\n",
    "\n",
    "    # initialize tokens to MASK\n",
    "    zero_logits = torch.zeros((batch_size, num_classes -1 , max_token_length), device=device)\n",
    "    one_logits = torch.ones((batch_size, 1, max_token_length), device=device)  # mask token\n",
    "    mask_logits = torch.cat([zero_logits, one_logits], dim=1)\n",
    "    log_z = torch.log(mask_logits)\n",
    "\n",
    "    # reverse process for LayoutDM\n",
    "    diffusion_list = get_diffusion_idx_list(model.model.num_timesteps, num_timesteps)  # (99, ..., 0)\n",
    "    prev_diffusion_index = model.model.num_timesteps\n",
    "\n",
    "    corrector_input_ids, corrector_scores = [], []\n",
    "    for diffusion_index in diffusion_list:\n",
    "        # Run Diffusion\n",
    "        delta_t = prev_diffusion_index - diffusion_index\n",
    "        t = torch.full((batch_size, ), diffusion_index, device=device, dtype=torch.long)\n",
    "        log_z = get_logits(log_z, t, skip_step=delta_t-1)\n",
    "\n",
    "        # Run Corrector\n",
    "        corr_input = preprocess_for_corrector(log_z, mask_id, sampling_cfg)\n",
    "        corr_score = corrector.calc_confidence_score(corr_input, t)\n",
    "        corrector_input_ids.append(corr_input.clone().cpu())\n",
    "        corrector_scores.append(corr_score.clone().cpu().sigmoid())\n",
    "        \n",
    "        if diffusion_index in corrector_t_list: # Mask based on correctness scores\n",
    "            confidence = corr_score.cpu()\n",
    "            # add gumbel noise\n",
    "            temperature_at_t = torch.full_like(t, sampling_cfg.gumbel_temperature).cpu()\n",
    "            gumbel_noise = -torch.log(-torch.log(torch.rand_like(confidence) + 1e-30) + 1e-30)\n",
    "            confidence += rearrange(temperature_at_t, \"b -> b 1\") * gumbel_noise\n",
    "\n",
    "            corr_input[(torch.sigmoid(confidence) < corrector_thresh)] = mask_id\n",
    "            log_z = index_to_log_onehot(corr_input, num_classes)\n",
    "        else: # sample from posterior\n",
    "            out_index = sample(log_z, sampling_cfg)\n",
    "            out_index = rearrange(out_index, \"b 1 s -> b s\")\n",
    "            log_z = index_to_log_onehot(out_index, num_classes)\n",
    "\n",
    "        prev_diffusion_index = diffusion_index\n",
    "    \n",
    "    return corrector_input_ids, corrector_scores"
   ]
  },
  {
   "cell_type": "code",
   "execution_count": 10,
   "id": "8f705898-c983-43c1-96f6-dcf955879a47",
   "metadata": {},
   "outputs": [],
   "source": [
    "def calc_intermediate_corr_scores(model, corrector, num_samples, sampling_cfg, device):\n",
    "    num_timesteps = sampling_cfg.num_timesteps\n",
    "    diffusion_idx_list = get_diffusion_idx_list(model.model.num_timesteps, num_timesteps)\n",
    "    \n",
    "    use_corrector = sampling_cfg.get('corrector_t_list', None) is not None\n",
    "    if not use_corrector:\n",
    "        sampling_cfg['corrector_t_list'] = []\n",
    "\n",
    "    corrector_input_ids, correctness_scores = get_intermediate_corrector_scores(model, corrector, num_samples, sampling_cfg, device)\n",
    "\n",
    "    # calculate average corr_scores over regular (non-PAD) tokens\n",
    "    reg_avg_scores = []\n",
    "    for corr_inputs, corr_scores in zip(corrector_input_ids, correctness_scores):\n",
    "        reg_tokens = corr_inputs != pad_id\n",
    "        reg_scores = corr_scores * reg_tokens\n",
    "        avg_scores = reg_scores.sum(1) / reg_tokens.sum(1)\n",
    "        reg_avg_scores.append(avg_scores.mean())\n",
    "\n",
    "    return reg_avg_scores"
   ]
  },
  {
   "cell_type": "markdown",
   "id": "87e6bf38-0252-4968-895b-6bfdd65c0bc5",
   "metadata": {},
   "source": [
    "### Calc corr_scores across different $T'$ with and without Corrector"
   ]
  },
  {
   "cell_type": "code",
   "execution_count": 11,
   "id": "adfbb1ef-1070-46d9-bc1f-053145a5664c",
   "metadata": {},
   "outputs": [
    {
     "name": "stdout",
     "output_type": "stream",
     "text": [
      "t_100\n",
      "t_50\n",
      "t_20\n",
      "t_100_corr\n",
      "t_50_corr\n",
      "t_20_corr\n"
     ]
    }
   ],
   "source": [
    "config_dict = {\n",
    "    't_100': dict(corrector_t_list=None, num_timesteps=100),\n",
    "    't_50':  dict(corrector_t_list=None, num_timesteps=50),\n",
    "    't_20':  dict(corrector_t_list=None, num_timesteps=20),\n",
    "    't_100_corr': dict(corrector_t_list=[10, 20, 30], num_timesteps=100),\n",
    "    't_50_corr':  dict(corrector_t_list=[10, 20, 30], num_timesteps=50),\n",
    "    't_20_corr':  dict(corrector_t_list=[10, 20, 30], num_timesteps=20),\n",
    "}\n",
    "results_dict = defaultdict(dict)\n",
    "\n",
    "for key, _dic in config_dict.items():\n",
    "    print(key)\n",
    "    _sampling_cfg = deepcopy(sampling_cfg)\n",
    "    extra_sampling_args = dict(\n",
    "        num_timesteps=_dic['num_timesteps'],\n",
    "        corrector_t_list=_dic['corrector_t_list'],\n",
    "        corrector_mask_mode='thresh',\n",
    "        corrector_mask_threshold=0.7,\n",
    "        gumbel_temperature=1.0,\n",
    "        use_gumbel_noise=True,    \n",
    "    )\n",
    "    _sampling_cfg.update(extra_sampling_args)\n",
    "    set_seed(0) # ensure reproduceability\n",
    "    reg_avg_scores = calc_intermediate_corr_scores(model, corrector, NUM_SAMPLES, _sampling_cfg, device)\n",
    "    results_dict[key]['reg_avg_scores'] = reg_avg_scores"
   ]
  },
  {
   "cell_type": "markdown",
   "id": "6ca57b37-43f5-4684-bbac-586176315ac6",
   "metadata": {},
   "source": [
    "### Calc corr_scores for Real samples"
   ]
  },
  {
   "cell_type": "code",
   "execution_count": 12,
   "id": "7d923e19-d5fd-4a16-b14f-91f8c1e4e413",
   "metadata": {},
   "outputs": [],
   "source": [
    "batch = iter(val_dataloader).__next__()\n",
    "bbox, label, _, mask = sparse_to_dense(batch)\n",
    "inputs = {\"label\": label, \"mask\": mask, \"bbox\": bbox}\n",
    "real_ids = model.tokenizer.encode(inputs)['seq']\n",
    "\n",
    "diffusion_idx_list = get_diffusion_idx_list(model.model.num_timesteps, model.model.num_timesteps)\n",
    "\n",
    "real_correctness_scores = []\n",
    "\n",
    "with torch.no_grad():\n",
    "    for timestep in diffusion_idx_list:\n",
    "        model_t =  torch.full((NUM_SAMPLES, ), timestep, device=device, dtype=torch.long)\n",
    "        logits = corrector.calc_confidence_score(real_ids, model_t)\n",
    "        scores = logits.sigmoid().cpu()\n",
    "        real_correctness_scores.append(scores)\n",
    "\n",
    "real_reg_avg_scores = []\n",
    "for corr_scores in real_correctness_scores:\n",
    "    reg_tokens = real_ids != pad_id\n",
    "    reg_scores = corr_scores * reg_tokens\n",
    "    avg_scores = reg_scores.sum(1) / reg_tokens.sum(1)\n",
    "    real_reg_avg_scores.append(avg_scores.mean())\n",
    "\n",
    "results_dict['real']['reg_avg_scores'] = real_reg_avg_scores"
   ]
  },
  {
   "cell_type": "markdown",
   "id": "817471f6-be52-4748-9fff-803023809b71",
   "metadata": {},
   "source": [
    "### Plot"
   ]
  },
  {
   "cell_type": "code",
   "execution_count": 13,
   "id": "2e0e85ba-f7c1-4dac-815e-db93f33c623e",
   "metadata": {},
   "outputs": [],
   "source": [
    "## Plot options\n",
    "COLORS = plt.rcParams['axes.prop_cycle'].by_key()['color']\n",
    "corr_ls = '--'\n",
    "corr_lw = 1.2\n",
    "plot_list = [\n",
    "    dict(key='real', name=r\"Real layout\", color=COLORS[0]),\n",
    "    dict(key='t_100', name=r\"$T'=100$\", color=COLORS[1]),\n",
    "    dict(key='t_100_corr', name=r\"$T'=100$ + Corrector\", color=COLORS[1], ls=corr_ls, lw=corr_lw),\n",
    "    dict(key='t_50', name=r\"$T'=50$\", color=COLORS[2]),\n",
    "    dict(key='t_50_corr', name=r\"$T'=50$ + Corrector\", color=COLORS[2], ls=corr_ls, lw=corr_lw),\n",
    "    dict(key='t_20', name=r\"$T'=20$\", color=COLORS[3]),\n",
    "    dict(key='t_20_corr', name=r\"$T'=20$ + Corrector\", color=COLORS[3], ls=corr_ls, lw=corr_lw),\n",
    "]\n",
    "\n",
    "def get_plt_kwargs(dic):\n",
    "    out = {\n",
    "        'lw': dic.get('lw', 1.0),\n",
    "        'ls': dic.get('ls', '-'),\n",
    "    }\n",
    "    if 'color' in dic:\n",
    "        out['color'] = dic['color']\n",
    "    return out"
   ]
  },
  {
   "cell_type": "code",
   "execution_count": 14,
   "id": "816992e1-8292-483d-abd6-4010cc140c61",
   "metadata": {},
   "outputs": [
    {
     "data": {
      "image/png": "[encoded data removed]",
      "text/plain": [
       "<Figure size 600x400 with 1 Axes>"
      ]
     },
     "metadata": {},
     "output_type": "display_data"
    }
   ],
   "source": [
    "# plot\n",
    "fig, ax = plt.subplots(figsize=(6, 4), tight_layout=True)\n",
    "\n",
    "ts = get_diffusion_idx_list(model.model.num_timesteps, model.model.num_timesteps)\n",
    "reg_avg_scores = results_dict['real']['reg_avg_scores']\n",
    "avg_ys = np.array([s.cpu().item() for s in reg_avg_scores])\n",
    "ax.plot(ts, avg_ys)\n",
    "\n",
    "for dic in plot_list:\n",
    "    key = dic['key']\n",
    "    num_timesteps = 100 if key == 'real' else config_dict[key]['num_timesteps']\n",
    "    ts = get_diffusion_idx_list(model.model.num_timesteps, num_timesteps)\n",
    "    reg_avg_scores = results_dict[key]['reg_avg_scores']\n",
    "    avg_ys = np.array([s.cpu().item() for s in reg_avg_scores])\n",
    "    ax.plot(ts, avg_ys, label=dic['name'], **get_plt_kwargs(dic))\n",
    "\n",
    "ax.legend(facecolor='inherit')\n",
    "ax.set_xticks(np.arange(0, 110, 10))\n",
    "ax.set_xlabel(r\"timestep $r$\")\n",
    "ax.set_ylabel(\"Average Correctness Score\")\n",
    "# plt.title(\"Timestep vs Avg Corrector Score (Regular Tokens)\")\n",
    "plt.show()"
   ]
  }
 ],
 "metadata": {
  "kernelspec": {
   "display_name": "Python 3 (ipykernel)",
   "language": "python",
   "name": "python3"
  },
  "language_info": {
   "codemirror_mode": {
    "name": "ipython",
    "version": 3
   },
   "file_extension": ".py",
   "mimetype": "text/x-python",
   "name": "python",
   "nbconvert_exporter": "python",
   "pygments_lexer": "ipython3",
   "version": "3.10.14"
  }
 },
 "nbformat": 4,
 "nbformat_minor": 5
}
